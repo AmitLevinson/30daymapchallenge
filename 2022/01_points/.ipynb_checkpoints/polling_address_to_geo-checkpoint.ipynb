{
 "cells": [
  {
   "cell_type": "raw",
   "id": "fd4d497d",
   "metadata": {},
   "source": [
    "---\n",
    "title: Querying Google API for Geolocation of polling stations in Rehovot\n",
    "author: Amit Levinson\n",
    "date: 'October 18, 2022'\n",
    "format:\n",
    "  html\n",
    "keep-ipynb: true\n",
    "---"
   ]
  },
  {
   "cell_type": "markdown",
   "id": "1a66c1c0",
   "metadata": {},
   "source": [
    "####  Relevant libraries"
   ]
  },
  {
   "cell_type": "code",
   "execution_count": 2,
   "id": "8c901b4e",
   "metadata": {},
   "outputs": [],
   "source": [
    "import googlemaps\n",
    "import getpass\n",
    "import pandas as pd\n",
    "import numpy as np"
   ]
  },
  {
   "cell_type": "markdown",
   "id": "7bfe0792",
   "metadata": {},
   "source": [
    "####  Google api key & prepare raw addresses"
   ]
  },
  {
   "cell_type": "markdown",
   "id": "dbefbb8e",
   "metadata": {},
   "source": [
    "Google api key to query maps, geolocations and more. Get yours at the [google developers section](https://console.cloud.google.com/), make sure to enable the relevant queries (gelocating in this case) and keep it safe."
   ]
  },
  {
   "cell_type": "code",
   "execution_count": 10,
   "id": "c1784255",
   "metadata": {},
   "outputs": [
    {
     "name": "stdout",
     "output_type": "stream",
     "text": [
      "········\n"
     ]
    }
   ],
   "source": [
    "gmaps = googlemaps.Client(key=getpass.getpass())"
   ]
  },
  {
   "cell_type": "code",
   "execution_count": 3,
   "id": "52203b72",
   "metadata": {},
   "outputs": [],
   "source": [
    "data = pd.read_excel('../potential_data/election-25_kalpi-places_kalpies_list_10_7_nagish.xlsx')"
   ]
  },
  {
   "cell_type": "code",
   "execution_count": 5,
   "id": "ac570829",
   "metadata": {},
   "outputs": [
    {
     "data": {
      "text/html": [
       "<div>\n",
       "<style scoped>\n",
       "    .dataframe tbody tr th:only-of-type {\n",
       "        vertical-align: middle;\n",
       "    }\n",
       "\n",
       "    .dataframe tbody tr th {\n",
       "        vertical-align: top;\n",
       "    }\n",
       "\n",
       "    .dataframe thead th {\n",
       "        text-align: right;\n",
       "    }\n",
       "</style>\n",
       "<table border=\"1\" class=\"dataframe\">\n",
       "  <thead>\n",
       "    <tr style=\"text-align: right;\">\n",
       "      <th></th>\n",
       "      <th>סמל ועדה</th>\n",
       "      <th>שם ועדה</th>\n",
       "      <th>סמל ישוב בחירות</th>\n",
       "      <th>שם ישוב בחירות</th>\n",
       "      <th>סמל קלפי</th>\n",
       "      <th>סמל רכוז</th>\n",
       "      <th>כתובת קלפי</th>\n",
       "      <th>מקום קלפי</th>\n",
       "      <th>נגישה</th>\n",
       "      <th>נגישה מיוחדת</th>\n",
       "      <th>בוחרי כנסת בפועל</th>\n",
       "    </tr>\n",
       "  </thead>\n",
       "  <tbody>\n",
       "    <tr>\n",
       "      <th>0</th>\n",
       "      <td>1</td>\n",
       "      <td>ירושלים</td>\n",
       "      <td>3000</td>\n",
       "      <td>ירושלים</td>\n",
       "      <td>1</td>\n",
       "      <td>14</td>\n",
       "      <td>מעגלי הרי\"ם לוין,27</td>\n",
       "      <td>ביה\"ס בית יעקב הצפון (סנהדריה)</td>\n",
       "      <td></td>\n",
       "      <td></td>\n",
       "      <td>743</td>\n",
       "    </tr>\n",
       "    <tr>\n",
       "      <th>1</th>\n",
       "      <td>1</td>\n",
       "      <td>ירושלים</td>\n",
       "      <td>3000</td>\n",
       "      <td>ירושלים</td>\n",
       "      <td>2</td>\n",
       "      <td>414</td>\n",
       "      <td>שמואל הנביא,85</td>\n",
       "      <td>ת\"ת שערי תורה (למען אחי)</td>\n",
       "      <td>כ</td>\n",
       "      <td></td>\n",
       "      <td>453</td>\n",
       "    </tr>\n",
       "    <tr>\n",
       "      <th>2</th>\n",
       "      <td>1</td>\n",
       "      <td>ירושלים</td>\n",
       "      <td>3000</td>\n",
       "      <td>ירושלים</td>\n",
       "      <td>3</td>\n",
       "      <td>18</td>\n",
       "      <td>מגן האלף,1</td>\n",
       "      <td>סמינר בית יעקב - עטרת חן</td>\n",
       "      <td></td>\n",
       "      <td></td>\n",
       "      <td>614</td>\n",
       "    </tr>\n",
       "    <tr>\n",
       "      <th>3</th>\n",
       "      <td>1</td>\n",
       "      <td>ירושלים</td>\n",
       "      <td>3000</td>\n",
       "      <td>ירושלים</td>\n",
       "      <td>4</td>\n",
       "      <td>59</td>\n",
       "      <td>פישל אהרן,29</td>\n",
       "      <td>ת\"ת זיכרו תורת משה</td>\n",
       "      <td>כ</td>\n",
       "      <td></td>\n",
       "      <td>565</td>\n",
       "    </tr>\n",
       "    <tr>\n",
       "      <th>4</th>\n",
       "      <td>1</td>\n",
       "      <td>ירושלים</td>\n",
       "      <td>3000</td>\n",
       "      <td>ירושלים</td>\n",
       "      <td>5</td>\n",
       "      <td>383</td>\n",
       "      <td>שבטי ישראל,27</td>\n",
       "      <td>משרד החינוך</td>\n",
       "      <td></td>\n",
       "      <td></td>\n",
       "      <td>543</td>\n",
       "    </tr>\n",
       "    <tr>\n",
       "      <th>...</th>\n",
       "      <td>...</td>\n",
       "      <td>...</td>\n",
       "      <td>...</td>\n",
       "      <td>...</td>\n",
       "      <td>...</td>\n",
       "      <td>...</td>\n",
       "      <td>...</td>\n",
       "      <td>...</td>\n",
       "      <td>...</td>\n",
       "      <td>...</td>\n",
       "      <td>...</td>\n",
       "    </tr>\n",
       "    <tr>\n",
       "      <th>11542</th>\n",
       "      <td>20</td>\n",
       "      <td>כרמיאל</td>\n",
       "      <td>8800</td>\n",
       "      <td>שפרעם</td>\n",
       "      <td>39</td>\n",
       "      <td>21</td>\n",
       "      <td>אבו שהאב</td>\n",
       "      <td>בי\"ס מקיף ד - אבו שהאב</td>\n",
       "      <td>כ</td>\n",
       "      <td>כ</td>\n",
       "      <td>733</td>\n",
       "    </tr>\n",
       "    <tr>\n",
       "      <th>11543</th>\n",
       "      <td>20</td>\n",
       "      <td>כרמיאל</td>\n",
       "      <td>8800</td>\n",
       "      <td>שפרעם</td>\n",
       "      <td>40</td>\n",
       "      <td>18</td>\n",
       "      <td>שפרעם</td>\n",
       "      <td>מרכז תרבות - מזרחי</td>\n",
       "      <td></td>\n",
       "      <td></td>\n",
       "      <td>553</td>\n",
       "    </tr>\n",
       "    <tr>\n",
       "      <th>11544</th>\n",
       "      <td>20</td>\n",
       "      <td>כרמיאל</td>\n",
       "      <td>8800</td>\n",
       "      <td>שפרעם</td>\n",
       "      <td>41</td>\n",
       "      <td>20</td>\n",
       "      <td>מרכז מסחר-ע עתיקה,1</td>\n",
       "      <td>בי\"ס קתולי חדש</td>\n",
       "      <td>כ</td>\n",
       "      <td>כ</td>\n",
       "      <td>616</td>\n",
       "    </tr>\n",
       "    <tr>\n",
       "      <th>11545</th>\n",
       "      <td>20</td>\n",
       "      <td>כרמיאל</td>\n",
       "      <td>8800</td>\n",
       "      <td>שפרעם</td>\n",
       "      <td>42</td>\n",
       "      <td>19</td>\n",
       "      <td>שפרעם</td>\n",
       "      <td>בי\"ס יסודי מרשאן</td>\n",
       "      <td></td>\n",
       "      <td></td>\n",
       "      <td>549</td>\n",
       "    </tr>\n",
       "    <tr>\n",
       "      <th>11546</th>\n",
       "      <td>20</td>\n",
       "      <td>כרמיאל</td>\n",
       "      <td>8800</td>\n",
       "      <td>שפרעם</td>\n",
       "      <td>43</td>\n",
       "      <td>19</td>\n",
       "      <td>שפרעם</td>\n",
       "      <td>בי\"ס יסודי מרשאן</td>\n",
       "      <td></td>\n",
       "      <td></td>\n",
       "      <td>595</td>\n",
       "    </tr>\n",
       "  </tbody>\n",
       "</table>\n",
       "<p>11547 rows × 11 columns</p>\n",
       "</div>"
      ],
      "text/plain": [
       "       סמל ועדה  שם ועדה  סמל ישוב בחירות שם ישוב בחירות  סמל קלפי  סמל רכוז  \\\n",
       "0             1  ירושלים             3000        ירושלים         1        14   \n",
       "1             1  ירושלים             3000        ירושלים         2       414   \n",
       "2             1  ירושלים             3000        ירושלים         3        18   \n",
       "3             1  ירושלים             3000        ירושלים         4        59   \n",
       "4             1  ירושלים             3000        ירושלים         5       383   \n",
       "...         ...      ...              ...            ...       ...       ...   \n",
       "11542        20   כרמיאל             8800          שפרעם        39        21   \n",
       "11543        20   כרמיאל             8800          שפרעם        40        18   \n",
       "11544        20   כרמיאל             8800          שפרעם        41        20   \n",
       "11545        20   כרמיאל             8800          שפרעם        42        19   \n",
       "11546        20   כרמיאל             8800          שפרעם        43        19   \n",
       "\n",
       "                 כתובת קלפי                       מקום קלפי נגישה  \\\n",
       "0      מעגלי הרי\"ם לוין,27   ביה\"ס בית יעקב הצפון (סנהדריה)         \n",
       "1           שמואל הנביא,85         ת\"ת שערי תורה (למען אחי)     כ   \n",
       "2               מגן האלף,1         סמינר בית יעקב - עטרת חן         \n",
       "3             פישל אהרן,29               ת\"ת זיכרו תורת משה     כ   \n",
       "4            שבטי ישראל,27                      משרד החינוך         \n",
       "...                     ...                             ...   ...   \n",
       "11542              אבו שהאב          בי\"ס מקיף ד - אבו שהאב     כ   \n",
       "11543                 שפרעם              מרכז תרבות - מזרחי         \n",
       "11544  מרכז מסחר-ע עתיקה,1                   בי\"ס קתולי חדש     כ   \n",
       "11545                 שפרעם                בי\"ס יסודי מרשאן         \n",
       "11546                 שפרעם                בי\"ס יסודי מרשאן         \n",
       "\n",
       "      נגישה מיוחדת  בוחרי כנסת בפועל  \n",
       "0                                743  \n",
       "1                                453  \n",
       "2                                614  \n",
       "3                                565  \n",
       "4                                543  \n",
       "...            ...               ...  \n",
       "11542            כ               733  \n",
       "11543                            553  \n",
       "11544            כ               616  \n",
       "11545                            549  \n",
       "11546                            595  \n",
       "\n",
       "[11547 rows x 11 columns]"
      ]
     },
     "execution_count": 5,
     "metadata": {},
     "output_type": "execute_result"
    }
   ],
   "source": [
    "data"
   ]
  },
  {
   "cell_type": "code",
   "execution_count": 19,
   "id": "4f26e43b",
   "metadata": {},
   "outputs": [],
   "source": [
    "rehovot_polls = (data[data['שם ישוב בחירות'] == \"רחובות\"]\n",
    " ['מקום קלפי']\n",
    " .unique()\n",
    ".tolist()\n",
    ")"
   ]
  },
  {
   "cell_type": "code",
   "execution_count": 20,
   "id": "45252e94",
   "metadata": {},
   "outputs": [
    {
     "data": {
      "text/plain": [
       "['בי\"ס נבון',\n",
       " 'מתנ\"ס כפר גבירול ישן (בית תנוב',\n",
       " 'חט\"צ ע\"ש בגין',\n",
       " 'בי\"ס עץ חיים',\n",
       " 'תלמוד תורה ממד הראי\"ה (הדרים)',\n",
       " 'מתנ\"ס חוויות - נווה יהודה',\n",
       " 'בי\"ס שפרינצק',\n",
       " 'ביה\"ס ממ\"ד סיני',\n",
       " 'בי\"ס קציר ב\\'',\n",
       " 'בי\"ס קציר א',\n",
       " 'בי\"ס המר',\n",
       " 'בי\"ס ויצמן חדש',\n",
       " 'מכללה עירונית קמפוס רחובות',\n",
       " 'בי\"ס בן צבי',\n",
       " 'תלמוד תורה \"הראם\"',\n",
       " 'בי\"ס שריד',\n",
       " 'בי\"ס בכור לוי',\n",
       " 'בי\"ס סמילנסקי',\n",
       " 'בי\"ס ממ\"ד תחכמוני',\n",
       " 'ביס ממלכתי דתי בראשית',\n",
       " 'בי\"ס תלמוד תורה חב\"ד רחובות',\n",
       " 'ביה\"ס בנות אסתר',\n",
       " 'בי\"ס יבניאלי',\n",
       " 'בי\"ס נועם הצבי-בנות',\n",
       " 'ביס ת\"ת הבאר-לשעבר מפתן אלונים',\n",
       " 'בי\"ס השיטה',\n",
       " 'בי\"ס בן גוריון',\n",
       " 'מתנ\"ס צפון חדש (חוויות)',\n",
       " 'מתנ\"ס חשמונאים',\n",
       " 'אורט ברזילי',\n",
       " 'בי\"ס נתיבות משה',\n",
       " 'היחידה להתפתחות הילד - חוויות',\n",
       " 'מתנס אושיות-מפעל הפיס',\n",
       " 'בי\"ס אמי\"ת',\n",
       " 'קרית חינוך למדעים (חדש)',\n",
       " 'בי\"ס ויצו מקצועי',\n",
       " 'בי\"ס ממ\"ד מעלות משולם',\n",
       " 'בי\"ס שזר',\n",
       " 'ביה\"ס ממלכתי הרצוג',\n",
       " 'ביס אילן רמון',\n",
       " 'ביס פרחי המדע',\n",
       " 'בי\"ס ניצני המדע',\n",
       " 'בי\"ס שביט',\n",
       " 'מתנס חוויות ההולנדית']"
      ]
     },
     "execution_count": 20,
     "metadata": {},
     "output_type": "execute_result"
    }
   ],
   "source": [
    "rehovot_polls"
   ]
  },
  {
   "cell_type": "markdown",
   "id": "fa7e19ce",
   "metadata": {},
   "source": [
    "#### Function to geocode the address & iterate across the list"
   ]
  },
  {
   "cell_type": "markdown",
   "id": "9fab87d1",
   "metadata": {},
   "source": [
    "We'll write up a function to query an addresses since the 'gmaps.gecode' returns a json format object. in case nothing returns it's an emtpy list, so we want to handle that too. other than return the relevant geometric location. Thanks to [this StackOverflow response](https://stackoverflow.com/questions/37311687/extracting-lat-lon-from-geocode-result-list-with-python-google-maps-api) for the quick function."
   ]
  },
  {
   "cell_type": "code",
   "execution_count": 21,
   "id": "3e99701a",
   "metadata": {},
   "outputs": [],
   "source": [
    "def geocode_address(loc):\n",
    "    geocode_result = gmaps.geocode(loc + ', רחובות')\n",
    "    if not geocode_result:\n",
    "        location = {\n",
    "        'address': loc,\n",
    "        'lat' : np.NaN,\n",
    "        'lon': np.NaN\n",
    "    }\n",
    "    else:\n",
    "        lat = geocode_result[0][\"geometry\"][\"location\"][\"lat\"]\n",
    "        lon = geocode_result[0][\"geometry\"][\"location\"][\"lng\"]\n",
    "        location = {\n",
    "            'address': loc,\n",
    "            'lat' : lat,\n",
    "            'lon': lon\n",
    "        }\n",
    "    df = pd.DataFrame([location])\n",
    "    return df"
   ]
  },
  {
   "cell_type": "code",
   "execution_count": 22,
   "id": "31eada1f",
   "metadata": {},
   "outputs": [
    {
     "data": {
      "text/html": [
       "<div>\n",
       "<style scoped>\n",
       "    .dataframe tbody tr th:only-of-type {\n",
       "        vertical-align: middle;\n",
       "    }\n",
       "\n",
       "    .dataframe tbody tr th {\n",
       "        vertical-align: top;\n",
       "    }\n",
       "\n",
       "    .dataframe thead th {\n",
       "        text-align: right;\n",
       "    }\n",
       "</style>\n",
       "<table border=\"1\" class=\"dataframe\">\n",
       "  <thead>\n",
       "    <tr style=\"text-align: right;\">\n",
       "      <th></th>\n",
       "      <th>address</th>\n",
       "      <th>lat</th>\n",
       "      <th>lon</th>\n",
       "    </tr>\n",
       "  </thead>\n",
       "  <tbody>\n",
       "    <tr>\n",
       "      <th>0</th>\n",
       "      <td>בי\"ס נבון</td>\n",
       "      <td>31.89273</td>\n",
       "      <td>34.776944</td>\n",
       "    </tr>\n",
       "  </tbody>\n",
       "</table>\n",
       "</div>"
      ],
      "text/plain": [
       "     address       lat        lon\n",
       "0  בי\"ס נבון  31.89273  34.776944"
      ]
     },
     "execution_count": 22,
     "metadata": {},
     "output_type": "execute_result"
    }
   ],
   "source": [
    "geocode_address(rehovot_polls[0]) # test output"
   ]
  },
  {
   "cell_type": "code",
   "execution_count": 23,
   "id": "61b2341d",
   "metadata": {},
   "outputs": [],
   "source": [
    "lst = []"
   ]
  },
  {
   "cell_type": "code",
   "execution_count": 24,
   "id": "06f0bb00",
   "metadata": {},
   "outputs": [],
   "source": [
    "for i in range(len(rehovot_polls)):\n",
    "    lst.append(geocode_address(rehovot_polls[i]))"
   ]
  },
  {
   "cell_type": "code",
   "execution_count": 25,
   "id": "83648114",
   "metadata": {},
   "outputs": [
    {
     "data": {
      "text/html": [
       "<div>\n",
       "<style scoped>\n",
       "    .dataframe tbody tr th:only-of-type {\n",
       "        vertical-align: middle;\n",
       "    }\n",
       "\n",
       "    .dataframe tbody tr th {\n",
       "        vertical-align: top;\n",
       "    }\n",
       "\n",
       "    .dataframe thead th {\n",
       "        text-align: right;\n",
       "    }\n",
       "</style>\n",
       "<table border=\"1\" class=\"dataframe\">\n",
       "  <thead>\n",
       "    <tr style=\"text-align: right;\">\n",
       "      <th></th>\n",
       "      <th>address</th>\n",
       "      <th>lat</th>\n",
       "      <th>lon</th>\n",
       "    </tr>\n",
       "  </thead>\n",
       "  <tbody>\n",
       "    <tr>\n",
       "      <th>0</th>\n",
       "      <td>בי\"ס נבון</td>\n",
       "      <td>31.892730</td>\n",
       "      <td>34.776944</td>\n",
       "    </tr>\n",
       "    <tr>\n",
       "      <th>0</th>\n",
       "      <td>מתנ\"ס כפר גבירול ישן (בית תנוב</td>\n",
       "      <td>31.894527</td>\n",
       "      <td>34.777092</td>\n",
       "    </tr>\n",
       "    <tr>\n",
       "      <th>0</th>\n",
       "      <td>חט\"צ ע\"ש בגין</td>\n",
       "      <td>31.902192</td>\n",
       "      <td>34.825207</td>\n",
       "    </tr>\n",
       "    <tr>\n",
       "      <th>0</th>\n",
       "      <td>בי\"ס עץ חיים</td>\n",
       "      <td>31.885227</td>\n",
       "      <td>34.786213</td>\n",
       "    </tr>\n",
       "    <tr>\n",
       "      <th>0</th>\n",
       "      <td>תלמוד תורה ממד הראי\"ה (הדרים)</td>\n",
       "      <td>31.892773</td>\n",
       "      <td>34.811272</td>\n",
       "    </tr>\n",
       "  </tbody>\n",
       "</table>\n",
       "</div>"
      ],
      "text/plain": [
       "                          address        lat        lon\n",
       "0                       בי\"ס נבון  31.892730  34.776944\n",
       "0  מתנ\"ס כפר גבירול ישן (בית תנוב  31.894527  34.777092\n",
       "0                   חט\"צ ע\"ש בגין  31.902192  34.825207\n",
       "0                    בי\"ס עץ חיים  31.885227  34.786213\n",
       "0   תלמוד תורה ממד הראי\"ה (הדרים)  31.892773  34.811272"
      ]
     },
     "execution_count": 25,
     "metadata": {},
     "output_type": "execute_result"
    }
   ],
   "source": [
    "addresses = pd.concat(lst)\n",
    "addresses.head()"
   ]
  },
  {
   "cell_type": "code",
   "execution_count": 27,
   "id": "e7004cf5",
   "metadata": {},
   "outputs": [],
   "source": [
    "addresses.to_csv('polling_station_rehovot.csv')"
   ]
  },
  {
   "cell_type": "markdown",
   "id": "3b697642",
   "metadata": {},
   "source": [
    "Voila! Enjoy and lookout for the graph using it — probably day 1 😉"
   ]
  }
 ],
 "metadata": {
  "kernelspec": {
   "display_name": "Python 3 (ipykernel)",
   "language": "python",
   "name": "python3"
  },
  "language_info": {
   "codemirror_mode": {
    "name": "ipython",
    "version": 3
   },
   "file_extension": ".py",
   "mimetype": "text/x-python",
   "name": "python",
   "nbconvert_exporter": "python",
   "pygments_lexer": "ipython3",
   "version": "3.10.4"
  }
 },
 "nbformat": 4,
 "nbformat_minor": 5
}
