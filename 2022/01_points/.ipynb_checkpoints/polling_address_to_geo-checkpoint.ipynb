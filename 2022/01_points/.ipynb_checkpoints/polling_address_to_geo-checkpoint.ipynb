{
 "cells": [
  {
   "cell_type": "code",
   "execution_count": null,
   "id": "aef7d822",
   "metadata": {},
   "outputs": [],
   "source": [
    "---\n",
    "title: Querying Google API for Geolocation of polling stations in Rehovot\n",
    "author: Amit Levinson\n",
    "date: 'October 18, 2022'\n",
    "format:\n",
    "  html\n",
    "keep-ipynb: true\n",
    "---"
   ]
  },
  {
   "cell_type": "markdown",
   "id": "1a66c1c0",
   "metadata": {},
   "source": [
    "####  Relevant libraries"
   ]
  },
  {
   "cell_type": "code",
   "execution_count": 99,
   "id": "8c901b4e",
   "metadata": {},
   "outputs": [],
   "source": [
    "import googlemaps\n",
    "import getpass\n",
    "import pandas as pd\n",
    "import numpy as np"
   ]
  },
  {
   "cell_type": "markdown",
   "id": "7bfe0792",
   "metadata": {},
   "source": [
    "####  Google api key & prepare raw addresses"
   ]
  },
  {
   "cell_type": "markdown",
   "id": "dbefbb8e",
   "metadata": {},
   "source": [
    "Google api key to query maps, geolocations and more. Get yours at the [google developers section](https://console.cloud.google.com/), make sure to enable the relevant queries (gelocating in this case) and keep it safe."
   ]
  },
  {
   "cell_type": "code",
   "execution_count": 19,
   "id": "c1784255",
   "metadata": {},
   "outputs": [
    {
     "name": "stdout",
     "output_type": "stream",
     "text": [
      "········\n"
     ]
    }
   ],
   "source": [
    "gmaps = googlemaps.Client(key=getpass.getpass())"
   ]
  },
  {
   "cell_type": "code",
   "execution_count": 38,
   "id": "52203b72",
   "metadata": {},
   "outputs": [],
   "source": [
    "data = pd.read_excel('../potential_data/polling.xls')"
   ]
  },
  {
   "cell_type": "code",
   "execution_count": 109,
   "id": "4f26e43b",
   "metadata": {},
   "outputs": [],
   "source": [
    "rehovot_polls = (data[data['שם ישוב'] == \"רחובות\"]\n",
    " ['תיאור מקום הקלפי']\n",
    " .unique()\n",
    ".tolist()\n",
    ")"
   ]
  },
  {
   "cell_type": "code",
   "execution_count": 113,
   "id": "45252e94",
   "metadata": {},
   "outputs": [
    {
     "data": {
      "text/plain": [
       "['חט\"צ ע\"ש בגין', 'בי\"ס עץ חיים', 'בי\"ס הדרים', 'מתנ\"ס חוויות - נווה']"
      ]
     },
     "execution_count": 113,
     "metadata": {},
     "output_type": "execute_result"
    }
   ],
   "source": [
    "rehovot_polls[1:5]"
   ]
  },
  {
   "cell_type": "markdown",
   "id": "fa7e19ce",
   "metadata": {},
   "source": [
    "#### Function to geocode the address & iterate across the list"
   ]
  },
  {
   "cell_type": "markdown",
   "id": "9fab87d1",
   "metadata": {},
   "source": [
    "We'll write up a function to query an addresses since the 'gmaps.gecode' returns a json format object. in case nothing returns it's an emtpy list, so we want to handle that too. other than return the relevant geometric location. Thanks to [this StackOverflow response](https://stackoverflow.com/questions/37311687/extracting-lat-lon-from-geocode-result-list-with-python-google-maps-api) for the quick function."
   ]
  },
  {
   "cell_type": "code",
   "execution_count": null,
   "id": "3e99701a",
   "metadata": {},
   "outputs": [],
   "source": [
    "def geocode_address(loc):\n",
    "    geocode_result = gmaps.geocode(loc + ', רחובות')\n",
    "    if not geocode_result:\n",
    "        location = {\n",
    "        'address': loc,\n",
    "        'lat' : np.NaN,\n",
    "        'lon': np.NaN\n",
    "    }\n",
    "    else:\n",
    "        lat = geocode_result[0][\"geometry\"][\"location\"][\"lat\"]\n",
    "        lon = geocode_result[0][\"geometry\"][\"location\"][\"lng\"]\n",
    "        location = {\n",
    "            'address': loc,\n",
    "            'lat' : lat,\n",
    "            'lon': lon\n",
    "        }\n",
    "    df = pd.DataFrame([location])\n",
    "    return df"
   ]
  },
  {
   "cell_type": "code",
   "execution_count": 114,
   "id": "31eada1f",
   "metadata": {},
   "outputs": [
    {
     "data": {
      "text/html": [
       "<div>\n",
       "<style scoped>\n",
       "    .dataframe tbody tr th:only-of-type {\n",
       "        vertical-align: middle;\n",
       "    }\n",
       "\n",
       "    .dataframe tbody tr th {\n",
       "        vertical-align: top;\n",
       "    }\n",
       "\n",
       "    .dataframe thead th {\n",
       "        text-align: right;\n",
       "    }\n",
       "</style>\n",
       "<table border=\"1\" class=\"dataframe\">\n",
       "  <thead>\n",
       "    <tr style=\"text-align: right;\">\n",
       "      <th></th>\n",
       "      <th>address</th>\n",
       "      <th>lat</th>\n",
       "      <th>lon</th>\n",
       "    </tr>\n",
       "  </thead>\n",
       "  <tbody>\n",
       "    <tr>\n",
       "      <th>0</th>\n",
       "      <td>מתנ\"ס כפר גבירול ישן</td>\n",
       "      <td>31.894527</td>\n",
       "      <td>34.777092</td>\n",
       "    </tr>\n",
       "  </tbody>\n",
       "</table>\n",
       "</div>"
      ],
      "text/plain": [
       "                address        lat        lon\n",
       "0  מתנ\"ס כפר גבירול ישן  31.894527  34.777092"
      ]
     },
     "execution_count": 114,
     "metadata": {},
     "output_type": "execute_result"
    }
   ],
   "source": [
    "geocode_address(rehovot_polls[0]) # test output"
   ]
  },
  {
   "cell_type": "code",
   "execution_count": 117,
   "id": "61b2341d",
   "metadata": {},
   "outputs": [],
   "source": [
    "lst = []"
   ]
  },
  {
   "cell_type": "code",
   "execution_count": 118,
   "id": "06f0bb00",
   "metadata": {},
   "outputs": [],
   "source": [
    "for i in range(len(rehovot_polls)):\n",
    "    lst.append(geocode_address(rehovot_polls[i]))"
   ]
  },
  {
   "cell_type": "code",
   "execution_count": 119,
   "id": "83648114",
   "metadata": {},
   "outputs": [
    {
     "data": {
      "text/html": [
       "<div>\n",
       "<style scoped>\n",
       "    .dataframe tbody tr th:only-of-type {\n",
       "        vertical-align: middle;\n",
       "    }\n",
       "\n",
       "    .dataframe tbody tr th {\n",
       "        vertical-align: top;\n",
       "    }\n",
       "\n",
       "    .dataframe thead th {\n",
       "        text-align: right;\n",
       "    }\n",
       "</style>\n",
       "<table border=\"1\" class=\"dataframe\">\n",
       "  <thead>\n",
       "    <tr style=\"text-align: right;\">\n",
       "      <th></th>\n",
       "      <th>address</th>\n",
       "      <th>lat</th>\n",
       "      <th>lon</th>\n",
       "    </tr>\n",
       "  </thead>\n",
       "  <tbody>\n",
       "    <tr>\n",
       "      <th>0</th>\n",
       "      <td>מתנ\"ס כפר גבירול ישן</td>\n",
       "      <td>31.894527</td>\n",
       "      <td>34.777092</td>\n",
       "    </tr>\n",
       "    <tr>\n",
       "      <th>0</th>\n",
       "      <td>חט\"צ ע\"ש בגין</td>\n",
       "      <td>31.902192</td>\n",
       "      <td>34.825207</td>\n",
       "    </tr>\n",
       "    <tr>\n",
       "      <th>0</th>\n",
       "      <td>בי\"ס עץ חיים</td>\n",
       "      <td>31.885227</td>\n",
       "      <td>34.786213</td>\n",
       "    </tr>\n",
       "    <tr>\n",
       "      <th>0</th>\n",
       "      <td>בי\"ס הדרים</td>\n",
       "      <td>31.896358</td>\n",
       "      <td>34.813007</td>\n",
       "    </tr>\n",
       "    <tr>\n",
       "      <th>0</th>\n",
       "      <td>מתנ\"ס חוויות - נווה</td>\n",
       "      <td>31.887062</td>\n",
       "      <td>34.785710</td>\n",
       "    </tr>\n",
       "  </tbody>\n",
       "</table>\n",
       "</div>"
      ],
      "text/plain": [
       "                address        lat        lon\n",
       "0  מתנ\"ס כפר גבירול ישן  31.894527  34.777092\n",
       "0         חט\"צ ע\"ש בגין  31.902192  34.825207\n",
       "0          בי\"ס עץ חיים  31.885227  34.786213\n",
       "0            בי\"ס הדרים  31.896358  34.813007\n",
       "0   מתנ\"ס חוויות - נווה  31.887062  34.785710"
      ]
     },
     "execution_count": 119,
     "metadata": {},
     "output_type": "execute_result"
    }
   ],
   "source": [
    "addresses = pd.concat(lst)\n",
    "addresses.head()"
   ]
  },
  {
   "cell_type": "code",
   "execution_count": null,
   "id": "e7004cf5",
   "metadata": {},
   "outputs": [],
   "source": [
    "addresses.to_csv('polling_station_rehovot.csv')"
   ]
  },
  {
   "cell_type": "markdown",
   "id": "3b697642",
   "metadata": {},
   "source": [
    "Voila! Enjoy and lookout for the graph using it — probably day 1 😉"
   ]
  }
 ],
 "metadata": {
  "kernelspec": {
   "display_name": "Python 3 (ipykernel)",
   "language": "python",
   "name": "python3"
  },
  "language_info": {
   "codemirror_mode": {
    "name": "ipython",
    "version": 3
   },
   "file_extension": ".py",
   "mimetype": "text/x-python",
   "name": "python",
   "nbconvert_exporter": "python",
   "pygments_lexer": "ipython3",
   "version": "3.10.4"
  }
 },
 "nbformat": 4,
 "nbformat_minor": 5
}
